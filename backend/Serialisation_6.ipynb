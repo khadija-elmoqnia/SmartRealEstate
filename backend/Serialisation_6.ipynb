{
 "cells": [
  {
   "cell_type": "code",
   "execution_count": 38,
   "metadata": {},
   "outputs": [
    {
     "name": "stdout",
     "output_type": "stream",
     "text": [
      "<class 'pandas.core.frame.DataFrame'>\n",
      "RangeIndex: 324 entries, 0 to 323\n",
      "Data columns (total 7 columns):\n",
      " #   Column                  Non-Null Count  Dtype  \n",
      "---  ------                  --------------  -----  \n",
      " 0   DATE                    324 non-null    object \n",
      " 1   Mortgage_15yr           324 non-null    float64\n",
      " 2   Gross Domestic Product  324 non-null    float64\n",
      " 3   Home_price_index        324 non-null    float64\n",
      " 4   Economic_growth         324 non-null    float64\n",
      " 5   Construction_inflation  324 non-null    float64\n",
      " 6   Wealth_density_index    324 non-null    float64\n",
      "dtypes: float64(6), object(1)\n",
      "memory usage: 17.8+ KB\n",
      "None\n"
     ]
    }
   ],
   "source": [
    "import pandas as pd\n",
    "\n",
    "# Lisez le fichier CSV en utilisant le chemin complet\n",
    "df = pd.read_csv('data\\\\Data_avecfeature_clean_normalisé.csv', header=0)\n",
    "\n",
    "# Afficher les données du dataset\n",
    "\n",
    "print(df.info())"
   ]
  },
  {
   "cell_type": "code",
   "execution_count": 39,
   "metadata": {},
   "outputs": [
    {
     "name": "stdout",
     "output_type": "stream",
     "text": [
      "Predictions: [140.58624575 117.2343519  149.22612573  78.62384732 172.53234442]\n",
      "True Values: 132    141.647\n",
      "108    117.144\n",
      "137    149.850\n",
      "9       77.942\n",
      "180    173.131\n",
      "Name: Home_price_index, dtype: float64\n"
     ]
    }
   ],
   "source": [
    "\n",
    "######################## Etablissement du Model et Serialisation \n",
    "\n",
    "# Importer les bibliothèques nécessaires\n",
    "\n",
    "from sklearn.model_selection import train_test_split\n",
    "from sklearn.ensemble import GradientBoostingRegressor\n",
    "import joblib\n",
    "\n",
    "X = df.drop(columns=['DATE', 'Home_price_index'])\n",
    "y = df['Home_price_index']\n",
    "\n",
    "# Diviser les données en ensembles d'entraînement et de test\n",
    "X_train, X_test, y_train, y_test = train_test_split(X, y, test_size=0.2, random_state=42)\n",
    "\n",
    "best_para ={'learning_rate': 0.2, 'max_depth': 7, 'max_features': 'log2', 'min_samples_leaf': 1, 'min_samples_split': 10, 'n_estimators': 150}\n",
    "# Initialiser le modèle GradientBoostingRegressor\n",
    "model = GradientBoostingRegressor(**best_para)\n",
    "\n",
    "# Entraîner le modèle\n",
    "model.fit(X_train, y_train)\n",
    "\n",
    "# Faire des prédictions sur l'ensemble de test\n",
    "predictions = model.predict(X_test)\n",
    "\n",
    "# Afficher les prédictions\n",
    "print(\"Predictions:\", predictions[:5])\n",
    "print(\"True Values:\", y_test[:5])\n",
    "\n",
    "# Serialiser le modèle\n",
    "joblib.dump(model, 'modele_gradient_boosting.pkl')\n",
    "\n",
    "# Charger le modèle sérialisé\n",
    "model_charge = joblib.load('modele_gradient_boosting.pkl')\n",
    "\n"
   ]
  }
 ],
 "metadata": {
  "kernelspec": {
   "display_name": "Python 3",
   "language": "python",
   "name": "python3"
  },
  "language_info": {
   "codemirror_mode": {
    "name": "ipython",
    "version": 3
   },
   "file_extension": ".py",
   "mimetype": "text/x-python",
   "name": "python",
   "nbconvert_exporter": "python",
   "pygments_lexer": "ipython3",
   "version": "3.12.0"
  }
 },
 "nbformat": 4,
 "nbformat_minor": 2
}
